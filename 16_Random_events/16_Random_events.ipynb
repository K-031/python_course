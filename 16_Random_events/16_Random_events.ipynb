{
 "cells": [
  {
   "cell_type": "markdown",
   "metadata": {},
   "source": [
    "#### Смоделировать игру против лотерейного автомата типа “777”. Игрок платит 1 руб., после чего выпадает случайное целое число, равномерно распределенное от 0 до 999. При некоторых значениях числа игрок получает выигрыш\n",
    "\n",
    "Выгодна ли игра игроку?\n",
    "\n",
    "Сколько в среднем приобретает\n",
    "или теряет игрок за одну игру?\n",
    "\n",
    "777: 200 руб.\n",
    "999: 100 руб.\n",
    "555: 50 руб.\n",
    "333: 15 руб.\n",
    "111: 10 руб.\n",
    "*77: 5 руб.\n",
    "**7: 3 руб.\n",
    "*00: 2 руб.\n",
    "**0: 1 руб.\n",
    "\n",
    "– любая цифра"
   ]
  },
  {
   "cell_type": "code",
   "execution_count": null,
   "metadata": {},
   "outputs": [],
   "source": [
    "import numpy as np"
   ]
  },
  {
   "cell_type": "code",
   "execution_count": 118,
   "metadata": {},
   "outputs": [
    {
     "name": "stdout",
     "output_type": "stream",
     "text": [
      "В среднем игрок теряет -0.21 руб. за одну игру\n"
     ]
    }
   ],
   "source": [
    "trials = 1000000  \n",
    "cash_prize = 0\n",
    "for i in range(trials):\n",
    "    random_score = np.random.randint(1, 1000) \n",
    "    if random_score % 100 == 0:\n",
    "        cash_prize += 2\n",
    "    elif random_score % 10 == 0:\n",
    "        cash_prize += 1\n",
    "    elif random_score == 777:\n",
    "        cash_prize += 200\n",
    "    elif random_score == 999:\n",
    "        cash_prize += 100\n",
    "    elif random_score == 555:\n",
    "        cash_prize += 50\n",
    "    elif random_score == 333:\n",
    "        cash_prize += 15\n",
    "    elif random_score == 111:\n",
    "        cash_prize += 10\n",
    "    elif random_score % 100 == 77:\n",
    "        cash_prize += 5\n",
    "    elif random_score % 10 == 7:\n",
    "        cash_prize += 3\n",
    "print('В среднем игрок теряет', round((cash_prize - trials) / trials, 2), 'руб. за одну игру')\n"
   ]
  }
 ],
 "metadata": {
  "kernelspec": {
   "display_name": "Python 3",
   "language": "python",
   "name": "python3"
  },
  "language_info": {
   "codemirror_mode": {
    "name": "ipython",
    "version": 3
   },
   "file_extension": ".py",
   "mimetype": "text/x-python",
   "name": "python",
   "nbconvert_exporter": "python",
   "pygments_lexer": "ipython3",
   "version": "3.8.5"
  }
 },
 "nbformat": 4,
 "nbformat_minor": 4
}
