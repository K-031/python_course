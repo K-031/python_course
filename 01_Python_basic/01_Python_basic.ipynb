{
 "cells": [
  {
   "cell_type": "markdown",
   "metadata": {},
   "source": [
    "# Задание 1"
   ]
  },
  {
   "cell_type": "code",
   "execution_count": 22,
   "metadata": {},
   "outputs": [
    {
     "name": "stdout",
     "output_type": "stream",
     "text": [
      "Фраза 1 длиннее фразы 2\n"
     ]
    }
   ],
   "source": [
    "phrase_1 = 'Насколько проще было бы писать программы, если бы не заказчики'\n",
    "phrase_2 = '640Кб должно хватить для любых задач. Билл Гейтс (по легенде)'\n",
    "if len(phrase_1) > len(phrase_2):\n",
    "    print(\"Фраза 1 длиннее фразы 2\")\n",
    "elif len(phrase_1) < len(phrase_2):\n",
    "    print(\"Фраза 2 длиннее фразы 1\")\n",
    "else:\n",
    "    print(\"Фразы равной длины\")"
   ]
  },
  {
   "cell_type": "markdown",
   "metadata": {},
   "source": [
    "# Задание 2"
   ]
  },
  {
   "cell_type": "code",
   "execution_count": 10,
   "metadata": {},
   "outputs": [
    {
     "name": "stdout",
     "output_type": "stream",
     "text": [
      "Високосный год\n"
     ]
    }
   ],
   "source": [
    "year = 2020\n",
    "if year % 400 == 0:\n",
    "    print('Високосный год')\n",
    "elif year % 100 == 0:\n",
    "    print('Обычный год')\n",
    "elif year % 4 == 0:\n",
    "    print('Високосный год')\n",
    "else:\n",
    "    print('Обычный год')"
   ]
  },
  {
   "cell_type": "markdown",
   "metadata": {},
   "source": [
    "# Задание 3"
   ]
  },
  {
   "cell_type": "code",
   "execution_count": 1,
   "metadata": {},
   "outputs": [
    {
     "name": "stdout",
     "output_type": "stream",
     "text": [
      "Введите день: 23\n",
      "Введите месяц: Ноябрь\n",
      "Ваш знак зодиака: Стрелец\n"
     ]
    }
   ],
   "source": [
    "day = int(input('Введите день: '))\n",
    "month = input('Введите месяц: ')\n",
    "if month == 'Январь' and 1 <= day <= 20 or month == 'Декабрь' and 31 >= day >= 22:\n",
    "    print('Ваш знак зодиака: Козерог')\n",
    "elif month == 'Январь' and 31 >= day >= 20 or month == 'Февраль' and 1 <= day <= 20:\n",
    "    print('Ваш знак зодиака: Водолей')\n",
    "elif month == 'Февраль' and 29 >= day >= 21 or month == 'Март' and 1 <= day <= 20:\n",
    "    print('Ваш знак зодиака: Рыбы')\n",
    "elif month == 'Март' and 31 >= day >= 21 or month == 'Апрель' and 1 <= day <= 20:\n",
    "    print('Ваш знак зодиака: Овен')\n",
    "elif month == 'Апрель' and 30 >= day >= 21 or month == 'Май' and 1 <= day <= 20:\n",
    "    print('Ваш знак зодиака: Телец')\n",
    "elif month == 'Май' and 31 >= day >= 21 or month == 'Июнь' and 1 <= day <= 21:\n",
    "    print('Ваш знак зодиака: Близнецы')\n",
    "elif month == 'Июнь' and 22 <= day <= 30 or month == 'Июль' and 1 <= day <= 22:\n",
    "    print('Ваш знак зодиака: Рак')\n",
    "elif month == 'Июль' and 23 <= day <= 31 or month == 'Август' and 1 <= day <= 23:\n",
    "    print('Ваш знак зодиака: Лев')\n",
    "elif month == 'Август' and 24 <= day <= 31 or month == 'Сентябрь' and 1 <= day <= 23:\n",
    "    print('Ваш знак зодиака: Дева')\n",
    "elif month == 'Сентябрь' and 24 <= day <= 30 or month == 'Октябрь' and 1 <= day <= 23:\n",
    "    print('Ваш знак зодиака: Весы')\n",
    "elif month == 'Октябрь' and 24 <= day <= 31 or month == 'Ноябрь' and 1 <= day <= 22:\n",
    "    print('Ваш знак зодиака: Скорпион')\n",
    "elif month == 'Ноябрь' and 23 <= day <= 30 or month == 'Декабрь' and 1 <= day <= 21:\n",
    "    print('Ваш знак зодиака: Стрелец')"
   ]
  },
  {
   "cell_type": "markdown",
   "metadata": {},
   "source": [
    "# Задание 4"
   ]
  },
  {
   "cell_type": "code",
   "execution_count": 12,
   "metadata": {},
   "outputs": [
    {
     "name": "stdout",
     "output_type": "stream",
     "text": [
      "Упаковка для лыж\n"
     ]
    }
   ],
   "source": [
    "width = 45\n",
    "length = 205\n",
    "height = 45\n",
    "if width < 15 and length < 15 and height < 15:\n",
    "    print('Коробка №1')\n",
    "elif length > 200:\n",
    "    print('Упаковка для лыж')    \n",
    "elif 15 < width < 50 or 15< length < 50 or 15< height <50:\n",
    "    print('Коробка №2')\n",
    "else:\n",
    "    print('Стандартная коробка №3')"
   ]
  }
 ],
 "metadata": {
  "kernelspec": {
   "display_name": "Python 3",
   "language": "python",
   "name": "python3"
  },
  "language_info": {
   "codemirror_mode": {
    "name": "ipython",
    "version": 3
   },
   "file_extension": ".py",
   "mimetype": "text/x-python",
   "name": "python",
   "nbconvert_exporter": "python",
   "pygments_lexer": "ipython3",
   "version": "3.8.5"
  }
 },
 "nbformat": 4,
 "nbformat_minor": 4
}
