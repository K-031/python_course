{
 "cells": [
  {
   "cell_type": "code",
   "execution_count": 2,
   "metadata": {},
   "outputs": [],
   "source": [
    "documents = [\n",
    "{'type': 'passport', 'number': '2207 876234', 'name': 'Василий Гупкин'},\n",
    "{'type': 'invoice', 'number': '11-2', 'name': 'Геннадий Покемонов'},\n",
    "{'type': 'insurance', 'number': '10006', 'name': 'Аристарх Павлов'}\n",
    "]\n",
    "\n",
    "directories = {\n",
    "'1': ['2207 876234', '11-2'],\n",
    "'2': ['10006'],\n",
    "'3': []\n",
    "}"
   ]
  },
  {
   "cell_type": "markdown",
   "metadata": {},
   "source": [
    "# Пункт 1. Пользователь по команде “p” может узнать владельца документа по его номеру"
   ]
  },
  {
   "cell_type": "code",
   "execution_count": 7,
   "metadata": {
    "scrolled": true
   },
   "outputs": [
    {
     "name": "stdout",
     "output_type": "stream",
     "text": [
      "Введите номер документа: 11-2\n",
      "Владелец документа:  Геннадий Покемонов\n"
     ]
    }
   ],
   "source": [
    "def documents_owner(meaning):\n",
    "    number_document = input('Введите номер документа: ')\n",
    "\n",
    "    documents_dict = dict(enumerate(documents))\n",
    "    for counter, numbers in documents_dict.items():\n",
    "        if numbers['number'] == number_document:\n",
    "\n",
    "            print('Владелец документа: ', numbers['name'])\n",
    "            break\n",
    "    else:\n",
    "\n",
    "        print(\"Документ не найден в базе\")\n",
    "\n",
    "\n",
    "\n",
    "documents_owner(documents)"
   ]
  },
  {
   "cell_type": "markdown",
   "metadata": {},
   "source": [
    "# Пункт 2. Пользователь по команде “s” может по номеру документа узнать на какой полке он хранится"
   ]
  },
  {
   "cell_type": "code",
   "execution_count": 8,
   "metadata": {
    "scrolled": false
   },
   "outputs": [
    {
     "name": "stdout",
     "output_type": "stream",
     "text": [
      "Введите номер документа: 11-2\n",
      "Документ не найден в базе\n",
      "Документ хранится на полке:  1\n",
      "Документ не найден в базе\n"
     ]
    }
   ],
   "source": [
    "def documents_shelf(meaning):\n",
    "    number_document = input('Введите номер документа: ')\n",
    "    for shelf, numbers in directories.items():        \n",
    "        for numbers_documents in numbers:            \n",
    "            if numbers_documents == number_document:               \n",
    "                print('Документ хранится на полке: ', shelf)                \n",
    "                break\n",
    "        \n",
    "            else:\n",
    "                print(\"Документ не найден в базе\")\n",
    "                \n",
    "                \n",
    "    \n",
    "\n",
    "documents_shelf(directories)"
   ]
  },
  {
   "cell_type": "markdown",
   "metadata": {},
   "source": [
    "# Пункт 3. Пользователь по команде “l” может увидеть полную информацию по всем документам"
   ]
  },
  {
   "cell_type": "code",
   "execution_count": null,
   "metadata": {},
   "outputs": [],
   "source": [
    "# Пункт 3. Пользователь по команде “l” может увидеть полную информацию по всем документам\n",
    "# Пример работы:\n",
    "\n",
    "# Введите команду:\n",
    "# l\n",
    "# Результат:\n",
    "\n",
    "# №: 2207 876234, тип: passport, владелец: Василий Гупкин, полка хранения: 1\n",
    "# №: 11-2, тип: invoice, владелец: Геннадий Покемонов, полка хранения: 1\n",
    "# №: 10006, тип: insurance, владелец: Аристарх Павлов, полка хранения: 2"
   ]
  },
  {
   "cell_type": "code",
   "execution_count": 11,
   "metadata": {},
   "outputs": [
    {
     "name": "stdout",
     "output_type": "stream",
     "text": [
      "№: 2207 876234 тип: passport владелец: Василий Гупкин полка хранения: 1\n",
      "№: 11-2 тип: invoice владелец: Геннадий Покемонов полка хранения: 1\n",
      "№: 10006 тип: insurance владелец: Аристарх Павлов полка хранения: 2\n"
     ]
    }
   ],
   "source": [
    "def complete_information(meaning):\n",
    "    documents_dict = dict(enumerate(documents))\n",
    "    for v, z in documents_dict.items():\n",
    "        for shelf, numbers in directories.items():\n",
    "            for numbers_documents in numbers:\n",
    "                if numbers_documents == z['number']:\n",
    "                    recruit = 'shelf'\n",
    "                    z[recruit] = shelf\n",
    "                    print('№:', z['number'], 'тип:', z['type'], 'владелец:', z['name'], 'полка хранения:', z['shelf'])                    \n",
    "complete_information(documents)"
   ]
  },
  {
   "cell_type": "markdown",
   "metadata": {},
   "source": [
    "# Пункт 4. Пользователь по команде “as” может добавить новую полку"
   ]
  },
  {
   "cell_type": "code",
   "execution_count": null,
   "metadata": {},
   "outputs": [],
   "source": [
    "# Примеры работы:\n",
    "\n",
    "# Введите команду:\n",
    "# as\n",
    "\n",
    "# Введите номер полки:\n",
    "# 10\n",
    "\n",
    "# Результат:\n",
    "# Полка добавлена. Текущий перечень полок: 1, 2, 3, 10.\n",
    "\n",
    "# Введите команду:\n",
    "# as\n",
    "\n",
    "# Введите номер полки:\n",
    "# 1\n",
    "\n",
    "# Результат:\n",
    "# Такая полка уже существует. Текущий перечень полок: 1, 2, 3."
   ]
  },
  {
   "cell_type": "code",
   "execution_count": 14,
   "metadata": {},
   "outputs": [
    {
     "name": "stdout",
     "output_type": "stream",
     "text": [
      "Введите номер полки: 1\n",
      "Такая полка уже существует. Текущий перечень полок: ['1', '2', '3']\n"
     ]
    }
   ],
   "source": [
    "def add_shelf(meaning):\n",
    "    number_shelf = input('Введите номер полки: ')\n",
    "\n",
    "    if number_shelf in directories:\n",
    "        print('Такая полка уже существует. Текущий перечень полок:', list(directories.keys()))\n",
    "    else:\n",
    "        directories[number_shelf] = []\n",
    "        print('Полка добавлена. Текущий перечень полок:', list(directories.keys()))\n",
    "add_shelf(directories)"
   ]
  },
  {
   "cell_type": "markdown",
   "metadata": {},
   "source": [
    "# Пункт 5. Пользователь по команде “ds” может удалить существующую полку из данных (только если она пустая)"
   ]
  },
  {
   "cell_type": "code",
   "execution_count": null,
   "metadata": {},
   "outputs": [],
   "source": [
    "# Примеры работы:\n",
    "\n",
    "# Введите команду:\n",
    "# ds\n",
    "\n",
    "# Введите номер полки:\n",
    "# 3\n",
    "# Результат:\n",
    "# Полка удалена. Текущий перечень полок: 1, 2.\n",
    "\n",
    "# Введите команду:\n",
    "# ds\n",
    "\n",
    "# Введите номер полки:\n",
    "# 1\n",
    "# Результат:\n",
    "# На полке есть документа, удалите их перед удалением полки. Текущий перечень полок: 1, 2, 3.\n",
    "\n",
    "# Введите команду:\n",
    "# ds\n",
    "\n",
    "# Введите номер полки:\n",
    "# 4\n",
    "# Результат:\n",
    "# Такой полки не существует. Текущий перечень полок: 1, 2, 3."
   ]
  },
  {
   "cell_type": "code",
   "execution_count": 16,
   "metadata": {},
   "outputs": [
    {
     "name": "stdout",
     "output_type": "stream",
     "text": [
      "Введите номер полки: 1\n",
      "На полке есть документа, удалите их перед удалением полки. Текущий перечень полок:  ['1', '2', '3']\n"
     ]
    }
   ],
   "source": [
    "def del_shelf(meaning):\n",
    "    number_shelf = input('Введите номер полки: ')\n",
    "    if number_shelf in directories and directories[number_shelf] == []:\n",
    "        del(directories[number_shelf])\n",
    "        print('Полка удалена. Текущий перечень полок: ', list(directories.keys()))\n",
    "    elif number_shelf in directories:\n",
    "        print('На полке есть документа, удалите их перед удалением полки. Текущий перечень полок: ', list(directories.keys()))\n",
    "    else:\n",
    "        print('Такой полки не существует. Текущий перечень полок: ', list(directories.keys()))\n",
    "        \n",
    "del_shelf(directories)"
   ]
  },
  {
   "cell_type": "code",
   "execution_count": 17,
   "metadata": {},
   "outputs": [
    {
     "name": "stdout",
     "output_type": "stream",
     "text": [
      "Введите команду ds\n",
      "Введите номер полки: 2\n",
      "На полке есть документа, удалите их перед удалением полки. Текущий перечень полок:  ['1', '2', '3']\n",
      "None\n"
     ]
    }
   ],
   "source": [
    "def main(meaning, z):\n",
    "    while True:\n",
    "        user_input = input('Введите команду ')\n",
    "        if user_input == 'p':\n",
    "            print(documents_owner(documents))\n",
    "        elif user_input == 's':\n",
    "            print(documents_shelf(directories))\n",
    "        elif user_input == 'l':\n",
    "            print(complete_information(documents))\n",
    "        elif user_input == 'as':\n",
    "            print(add_shelf(directories))\n",
    "        elif user_input == 'ds':\n",
    "            print(del_shelf(directories))\n",
    "        break\n",
    "            \n",
    "            \n",
    "main(documents, directories)"
   ]
  }
 ],
 "metadata": {
  "kernelspec": {
   "display_name": "Python 3",
   "language": "python",
   "name": "python3"
  }
 },
 "nbformat": 4,
 "nbformat_minor": 4
}
